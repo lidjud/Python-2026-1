{
  "nbformat": 4,
  "nbformat_minor": 0,
  "metadata": {
    "colab": {
      "provenance": []
    },
    "kernelspec": {
      "name": "python3",
      "display_name": "Python 3"
    },
    "language_info": {
      "name": "python"
    }
  },
  "cells": [
    {
      "cell_type": "markdown",
      "source": [
        "# 🧠 Python Básico — Clase 1 (Problema → Variables y Operadores)\n",
        "\n",
        "**Enfoque basado en problema**: *“Organizar un evento académico con presupuesto limitado”*  \n",
        "Imagina que debes organizar un **taller presencial** para estudiantes (20–40 asistentes). Necesitas estimar costos y tomar decisiones rápidas.\n",
        "\n",
        "> Objetivo de la sesión: usar **variables** y **operadores** de Python para modelar el problema y responder preguntas clave de costos."
      ],
      "metadata": {
        "id": "9WSUCHoe0KqH"
      }
    },
    {
      "cell_type": "markdown",
      "source": [
        "## 0) Contexto del problema\n",
        "\n",
        "Vas a organizar un taller de 2 horas con coffee break. Necesitas:\n",
        "- Café, pan dulce, vasos, servilletas.\n",
        "- Impresiones de 2 hojas por persona.\n",
        "- Reconocimientos (1 por persona).\n",
        "\n",
        "Tienes un **presupuesto máximo** y una **estimación de asistentes**. Queremos responder cosas como:\n",
        "- ¿Alcanza el dinero?\n",
        "- ¿Cuánto cuesta por persona?\n",
        "- Si cambian los precios o la asistencia, ¿qué pasa?"
      ],
      "metadata": {
        "id": "f4v78Nr10Pyl"
      }
    },
    {
      "cell_type": "code",
      "execution_count": null,
      "metadata": {
        "id": "6cO6Oc7K0Cmb"
      },
      "outputs": [],
      "source": [
        "# ¡Hola! Ejecuta esta celda para verificar tu entorno:\n",
        "print(\"Listo para programar en Python 🚀\")"
      ]
    },
    {
      "cell_type": "markdown",
      "source": [
        "## 1) Variables (¿cómo “nombrar” datos del mundo real?)\n",
        "\n",
        "Una **variable** es una etiqueta que guarda un valor. En este problema:\n",
        "- `asistentes` → número de personas esperadas\n",
        "- `presupuesto` → dinero máximo disponible\n",
        "- `precio_cafe`, `precio_pan`, `precio_vaso`, `precio_servilleta` → costos unitarios\n",
        "- `hojas_por_persona`, `costo_hoja` → para impresiones\n",
        "- `costo_reconocimiento` → por persona\n",
        "\n",
        "> Regla práctica: usa **nombres claros** en minúsculas y con guiones bajos."
      ],
      "metadata": {
        "id": "hjhkr5MG0WuN"
      }
    },
    {
      "cell_type": "code",
      "source": [
        "# 💾 Define tus variables base (puedes ajustar valores)"
      ],
      "metadata": {
        "id": "HaBNAKzT0YON"
      },
      "execution_count": null,
      "outputs": []
    },
    {
      "cell_type": "markdown",
      "source": [
        "## 2) Operadores aritméticos en acción\n",
        "\n",
        "- Suma `+`, Resta `-`, Multiplicación `*`, División `/`\n",
        "- División entera `//` (descarta decimales), Módulo `%` (residuo), Potencia `**`\n",
        "- Precedencia: `**` → `* / // %` → `+ -` (usa paréntesis para claridad)\n",
        "\n",
        "Vamos a **modelar consumos** y **costos** con operaciones."
      ],
      "metadata": {
        "id": "6WyFwGIP0r7N"
      }
    },
    {
      "cell_type": "code",
      "source": [
        "# ☕️ Modelado del consumo de café y pan"
      ],
      "metadata": {
        "id": "deFrPYV70sYN"
      },
      "execution_count": null,
      "outputs": []
    },
    {
      "cell_type": "markdown",
      "source": [
        "### 2.1) Impresiones y reconocimientos"
      ],
      "metadata": {
        "id": "SieuKfPU0z8N"
      }
    },
    {
      "cell_type": "markdown",
      "source": [
        "## 3) ¿Alcanza el presupuesto? (operadores + comparación rápida)\n",
        "\n",
        "Aunque hoy no veremos condicionales a fondo, podemos **comparar** y pensar decisiones:\n",
        "- Si `costo_evento <= presupuesto` → estamos dentro del presupuesto\n",
        "- Si `costo_evento > presupuesto` → hay que ajustar variables"
      ],
      "metadata": {
        "id": "E5jdo5Oz03rN"
      }
    },
    {
      "cell_type": "markdown",
      "source": [
        "## 4) Retos rápidos (no clásicos)\n",
        "\n",
        "1. **Ajuste sostenible**: reduce `pan_por_persona` a 1.2 y aumenta `tazas_totales` a `asistentes*1.1`.  \n",
        "2. **Inflación sorpresiva**: sube `precio_cafe_litro` un 12% y `precio_pan_pieza` un 8%.  \n",
        "3. **Más asistentes**: cambia `asistentes` a 45.  \n",
        "4. **Redondeo inteligente**: calcula cuántos paquetes de vasos de 50 necesitas (usa `//` y `%`)."
      ],
      "metadata": {
        "id": "P7DY_kkS1DNN"
      }
    },
    {
      "cell_type": "code",
      "source": [
        "## 5) Operadores y precedencia (mini-laboratorio)\n",
        "\n",
        "- `total = 10 + 2 * 5`\n",
        "- `horas = 3 + 2 // 2`\n",
        "- `resto = 17 % 4`\n",
        "- `potencia = 2 ** 3 ** 2`"
      ],
      "metadata": {
        "id": "bx8cjBFF00xe"
      },
      "execution_count": null,
      "outputs": []
    },
    {
      "cell_type": "markdown",
      "source": [
        "## 6) Errores comunes\n",
        "\n",
        "- Usar `,` en lugar de `.` en decimales: `3,14` ❌ → `3.14` ✅  \n",
        "- Confundir `=` (asignación) con `==` (comparación).  \n",
        "- Olvidar paréntesis en operaciones complejas.  \n",
        "- Nombres de variables poco claros."
      ],
      "metadata": {
        "id": "G7asVC3y1PsF"
      }
    },
    {
      "cell_type": "code",
      "source": [],
      "metadata": {
        "id": "F2KQ-Aqc1QPd"
      },
      "execution_count": null,
      "outputs": []
    }
  ]
}