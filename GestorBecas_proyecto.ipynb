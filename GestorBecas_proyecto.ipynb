{
  "cells": [
    {
      "cell_type": "markdown",
      "id": "8037e34c",
      "metadata": {
        "id": "8037e34c"
      },
      "source": [
        "# Gestor de Becas (Nivel medio)\n",
        "\n",
        "Este proyecto simula un **gestor de becas para estudiantes** usando listas, diccionarios, funciones y control de flujo.\n",
        "Funciona por **consola** (usando `input()`).\n",
        "\n",
        "## Objetivos\n",
        "- Registrar estudiantes becarios\n",
        "- Ver, buscar y eliminar becarios\n",
        "- Calcular el pago total mensual\n",
        "- (Opcional) Editar registros, promedios por nivel y guardado/carga a archivo"
      ]
    },
    {
      "cell_type": "markdown",
      "id": "d5622d06",
      "metadata": {
        "id": "d5622d06"
      },
      "source": [
        "### Estructura de datos sugerida"
      ]
    },
    {
      "cell_type": "code",
      "execution_count": 1,
      "id": "e599e3eb",
      "metadata": {
        "id": "e599e3eb"
      },
      "outputs": [],
      "source": [
        "# Lista global para almacenar becarios (cada becario es un diccionario)\n",
        "becarios = []  # Ejemplo: {\"nombre\": \"Ana Pérez\", \"nivel\": \"Licenciatura\", \"monto\": 4000.0}\n"
      ]
    },
    {
      "cell_type": "markdown",
      "id": "dc528b3d",
      "metadata": {
        "id": "dc528b3d"
      },
      "source": [
        "### Menú principal (CLI)"
      ]
    },
    {
      "cell_type": "code",
      "execution_count": 2,
      "id": "5c10679c",
      "metadata": {
        "id": "5c10679c"
      },
      "outputs": [],
      "source": [
        "def mostrar_menu():\n",
        "    print(\"\\n=== GESTOR DE BECAS ===\")\n",
        "    print(\"1. Agregar becario\")\n",
        "    print(\"2. Ver lista de becarios\")\n",
        "    print(\"3. Buscar becario por nombre\")\n",
        "    print(\"4. Calcular pago total\")\n",
        "    print(\"5. Eliminar becario\")\n",
        "    print(\"6. Salir\")"
      ]
    },
    {
      "cell_type": "markdown",
      "id": "42954855",
      "metadata": {
        "id": "42954855"
      },
      "source": [
        "### Funciones principales"
      ]
    },
    {
      "cell_type": "code",
      "execution_count": 3,
      "id": "df33c5d3",
      "metadata": {
        "id": "df33c5d3"
      },
      "outputs": [],
      "source": [
        "def agregar_becario():\n",
        "    # pedir nombre, nivel y monto con input(); validar y agregar a la lista 'becarios'\n",
        "    # utiliza el método .strip() para eliminar espacios al inicio y final de la palabra/oración\n",
        "    nombre =\n",
        "    nivel =\n",
        "    # investiga la función de un try/except\n",
        "    try:\n",
        "        monto =\n",
        "    except ValueError:\n",
        "\n",
        "        return\n",
        "    # agrega cada diccionario de becario a la lista becarios\n",
        "\n",
        "    # imprime un mensaje de que el becario {} fue se agregó\n",
        "\n",
        "\n",
        "def ver_becarios():\n",
        "    # si no hay registros, avisa; si hay, imprímelos en formato legible.\n",
        "    if not becarios:\n",
        "        print(\"No hay becarios registrados.\")\n",
        "        return\n",
        "    print(\"\\n--- LISTA DE BECARIOS ---\")\n",
        "    # para imprimir, utiliza un ciclo for y un enumerate\n",
        "\n",
        "\n",
        "def buscar_becario():\n",
        "    # pedir un nombre y buscar coincidencias parciales\n",
        "    # imprime un mensaje si lo encontró así como los datos del becario\n",
        "    # en caso contrario, imprime un mensaje \"Becario no encontrado\"\n",
        "    ...\n",
        "\n",
        "def calcular_total():\n",
        "    # usar sum -\n",
        "    ...\n",
        "\n",
        "def eliminar_becario():\n",
        "    # pedir nombre exacto y eliminar el primer match\n",
        "    # si encuentra el nombre, lo elimina e imprime con un mensaje de que el becario {nombre} fue eliminado\n",
        "    # en caso contrario manda unmensjae \"No se encontró ese becario.\"\n"
      ]
    },
    {
      "cell_type": "markdown",
      "id": "c59fd878",
      "metadata": {
        "id": "c59fd878"
      },
      "source": [
        "### Bucle principal"
      ]
    },
    {
      "cell_type": "code",
      "execution_count": null,
      "id": "ff6ab53a",
      "metadata": {
        "id": "ff6ab53a"
      },
      "outputs": [],
      "source": [
        "# ciclo while que muestra el menú principal y manda a llamar las funciones"
      ]
    }
  ],
  "metadata": {
    "colab": {
      "provenance": []
    },
    "language_info": {
      "name": "python"
    },
    "kernelspec": {
      "name": "python3",
      "display_name": "Python 3"
    }
  },
  "nbformat": 4,
  "nbformat_minor": 5
}