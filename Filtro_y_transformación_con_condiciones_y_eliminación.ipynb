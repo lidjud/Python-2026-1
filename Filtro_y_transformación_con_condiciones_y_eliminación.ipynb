{
  "nbformat": 4,
  "nbformat_minor": 0,
  "metadata": {
    "colab": {
      "provenance": []
    },
    "kernelspec": {
      "name": "python3",
      "display_name": "Python 3"
    },
    "language_info": {
      "name": "python"
    }
  },
  "cells": [
    {
      "cell_type": "markdown",
      "source": [
        "🧩 Ejercicio: “Filtro y transformación con condiciones y eliminación”\n",
        "\n",
        "Descripción\n",
        "Solicita al usuario una lista de números enteros (positivos, negativos y ceros). Vas a procesar esa lista aplicando varias reglas:\n",
        "\n",
        "Recorre la lista original con un bucle for.\n",
        "\n",
        "Si el número es negativo, elimínalo (puedes usar del o construir una nueva lista).\n",
        "\n",
        "Si el número es 0, sustitúyelo por el número más grande encontrado hasta ese punto (antes del 0) solo si ya existió algún número positivo; si no, déjalo como 0.\n",
        "\n",
        "Si el número es positivo, multiplícalo por 2 solo si es impar; si es par, déjalo igual.\n",
        "\n",
        "Al final, imprime la lista procesada.\n",
        "\n",
        "Ejemplo de entrada y salida esperada\n",
        "\n",
        "Entrada:\n",
        "[3, -1, 0, 4, 5, -2, 0, 7]\n",
        "\n",
        "Proceso paso a paso:\n",
        "\n",
        "3 → es positivo e impar → lo multiplicas por 2 → queda 6.\n",
        "\n",
        "-1 → negativo → lo eliminas.\n",
        "\n",
        "0 → lo sustituyes por el mayor positivo hasta ahora (6) → 6.\n",
        "\n",
        "4 → positivo y par → lo dejas → 4.\n",
        "\n",
        "5 → positivo e impar → lo multiplicas por 2 → 10.\n",
        "\n",
        "-2 → negativo → lo eliminas.\n",
        "\n",
        "0 → lo sustituyes por el mayor hasta ahora (que es 10) → 10.\n",
        "\n",
        "7 → impar, positivo → lo multiplicas por 2 → 14.\n",
        "\n",
        "Salida:\n",
        "[6, 6, 4, 10, 10, 14]\n",
        "\n",
        "\n",
        "\n",
        "💡 Sugerencias para implementarlo\n",
        "\n",
        "Puedes usar un bucle for para iterar, pero no es muy seguro eliminar elementos directamente de la lista sobre la que iteras.\n",
        "En vez de eso, puedes:\n",
        "\n",
        "Construir una nueva lista resultado = [] y agregar elementos que cumplan las reglas.\n",
        "\n",
        "O bien iterar con índices (while y control de índice manual), pero con cuidado.\n",
        "\n",
        "Para llevar el “mayor positivo hasta ahora”, puedes mantener una variable, por ejemplo, max_positivo.\n",
        "\n",
        "Asegúrate de manejar el caso donde aún no has visto ningún número positivo cuando aparece un 0 (requisito para reemplazarlo)."
      ],
      "metadata": {
        "id": "xuhsikhE0Dg5"
      }
    },
    {
      "cell_type": "code",
      "execution_count": null,
      "metadata": {
        "id": "4S6CUlBM0Cwb"
      },
      "outputs": [],
      "source": []
    }
  ]
}